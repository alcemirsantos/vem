{
 "cells": [
  {
   "cell_type": "markdown",
   "metadata": {},
   "source": [
    "Ideias:\n",
    "- Minerar colaborações"
   ]
  },
  {
   "cell_type": "code",
   "execution_count": 1,
   "metadata": {},
   "outputs": [
    {
     "name": "stderr",
     "output_type": "stream",
     "text": [
      "[nltk_data] Downloading package stopwords to\n",
      "[nltk_data]     /home/leomurta/nltk_data...\n",
      "[nltk_data]   Package stopwords is already up-to-date!\n",
      "[nltk_data] Downloading package averaged_perceptron_tagger to\n",
      "[nltk_data]     /home/leomurta/nltk_data...\n",
      "[nltk_data]   Package averaged_perceptron_tagger is already up-to-\n",
      "[nltk_data]       date!\n"
     ]
    },
    {
     "data": {
      "text/plain": [
       "True"
      ]
     },
     "execution_count": 1,
     "metadata": {},
     "output_type": "execute_result"
    }
   ],
   "source": [
    "import pandas as pd\n",
    "import matplotlib.pyplot as plt\n",
    "from wordcloud import WordCloud, STOPWORDS\n",
    "from unidecode import unidecode\n",
    "import nltk\n",
    "nltk.download('stopwords')\n",
    "nltk.download('averaged_perceptron_tagger')\n"
   ]
  },
  {
   "cell_type": "code",
   "execution_count": 2,
   "metadata": {},
   "outputs": [
    {
     "data": {
      "text/html": [
       "<div>\n",
       "<style scoped>\n",
       "    .dataframe tbody tr th:only-of-type {\n",
       "        vertical-align: middle;\n",
       "    }\n",
       "\n",
       "    .dataframe tbody tr th {\n",
       "        vertical-align: top;\n",
       "    }\n",
       "\n",
       "    .dataframe thead th {\n",
       "        text-align: right;\n",
       "    }\n",
       "</style>\n",
       "<table border=\"1\" class=\"dataframe\">\n",
       "  <thead>\n",
       "    <tr style=\"text-align: right;\">\n",
       "      <th></th>\n",
       "      <th>title</th>\n",
       "      <th>authors</th>\n",
       "      <th>institutions</th>\n",
       "      <th>venue</th>\n",
       "      <th>year</th>\n",
       "    </tr>\n",
       "  </thead>\n",
       "  <tbody>\n",
       "    <tr>\n",
       "      <th>0</th>\n",
       "      <td>Towards Component-based Software Maintenance v...</td>\n",
       "      <td>Leonardo Murta; Hamilton Oliveira; Cristine Da...</td>\n",
       "      <td>COPPE/UFRJ</td>\n",
       "      <td>wmswm</td>\n",
       "      <td>2004</td>\n",
       "    </tr>\n",
       "    <tr>\n",
       "      <th>1</th>\n",
       "      <td>Documentacao Essencial para Manutencao de Soft...</td>\n",
       "      <td>Sérgio Cozzetti Bertoldi de Souza; Wesley Chri...</td>\n",
       "      <td>UCB</td>\n",
       "      <td>wmswm</td>\n",
       "      <td>2004</td>\n",
       "    </tr>\n",
       "    <tr>\n",
       "      <th>2</th>\n",
       "      <td>Evolução Orientada a Aspectos de um Framework OO</td>\n",
       "      <td>Maria Tânia Francelino da Silva; Rosana T. Vac...</td>\n",
       "      <td>USP</td>\n",
       "      <td>wmswm</td>\n",
       "      <td>2004</td>\n",
       "    </tr>\n",
       "    <tr>\n",
       "      <th>3</th>\n",
       "      <td>An Evolution Process for Application Frameworks</td>\n",
       "      <td>Maria Istela Cagnin; José Carlos Maldonado; Pa...</td>\n",
       "      <td>USP; UFSCar</td>\n",
       "      <td>wmswm</td>\n",
       "      <td>2004</td>\n",
       "    </tr>\n",
       "    <tr>\n",
       "      <th>4</th>\n",
       "      <td>Uma experiencia no ensino de manutencao de sof...</td>\n",
       "      <td>Márcio Greyck Batista Dias</td>\n",
       "      <td>UNIGOIÁS ANHANGUERA</td>\n",
       "      <td>wmswm</td>\n",
       "      <td>2004</td>\n",
       "    </tr>\n",
       "  </tbody>\n",
       "</table>\n",
       "</div>"
      ],
      "text/plain": [
       "                                               title  \\\n",
       "0  Towards Component-based Software Maintenance v...   \n",
       "1  Documentacao Essencial para Manutencao de Soft...   \n",
       "2   Evolução Orientada a Aspectos de um Framework OO   \n",
       "3    An Evolution Process for Application Frameworks   \n",
       "4  Uma experiencia no ensino de manutencao de sof...   \n",
       "\n",
       "                                             authors         institutions  \\\n",
       "0  Leonardo Murta; Hamilton Oliveira; Cristine Da...           COPPE/UFRJ   \n",
       "1  Sérgio Cozzetti Bertoldi de Souza; Wesley Chri...                  UCB   \n",
       "2  Maria Tânia Francelino da Silva; Rosana T. Vac...                  USP   \n",
       "3  Maria Istela Cagnin; José Carlos Maldonado; Pa...          USP; UFSCar   \n",
       "4                         Márcio Greyck Batista Dias  UNIGOIÁS ANHANGUERA   \n",
       "\n",
       "   venue  year  \n",
       "0  wmswm  2004  \n",
       "1  wmswm  2004  \n",
       "2  wmswm  2004  \n",
       "3  wmswm  2004  \n",
       "4  wmswm  2004  "
      ]
     },
     "execution_count": 2,
     "metadata": {},
     "output_type": "execute_result"
    }
   ],
   "source": [
    "#reads publications from Excel file\n",
    "df = pd.read_excel('publications.xlsx', keep_default_na=False)\n",
    "df.head()"
   ]
  },
  {
   "cell_type": "markdown",
   "metadata": {},
   "source": [
    "# Authors"
   ]
  },
  {
   "cell_type": "code",
   "execution_count": 3,
   "metadata": {},
   "outputs": [
    {
     "data": {
      "text/plain": [
       "Claudia Werner        16\n",
       "Manoel Mendonca       10\n",
       "Marco Valente         10\n",
       "Rosangela Penteado    10\n",
       "Marcelo Schots         9\n",
       "Leonardo Murta         8\n",
       "Glauco Carneiro        7\n",
       "Paulo Junior           6\n",
       "Aline Vasconcelos      5\n",
       "Valter Camargo         5\n",
       "Marcelo Maia           5\n",
       "Marco Gerosa           5\n",
       "Eduardo Figueiredo     4\n",
       "Heitor Costa           4\n",
       "Renato Novais          4\n",
       "Jorge Figueiredo       4\n",
       "Roberto Bigonha        4\n",
       "Nicolas Anquetil       4\n",
       "Marcos Chaim           3\n",
       "Arnaldo Belchior       3\n",
       "Name: authors, dtype: int64"
      ]
     },
     "execution_count": 3,
     "metadata": {},
     "output_type": "execute_result"
    }
   ],
   "source": [
    "def first_last(text):\n",
    "    words = text.split(' ')\n",
    "    return f'{words[0]} {words[-1]}'\n",
    "\n",
    "df['authors'].apply(unidecode).str.split('; ').explode().apply(first_last).value_counts().head(20)"
   ]
  },
  {
   "cell_type": "markdown",
   "metadata": {},
   "source": [
    "# Institutions"
   ]
  },
  {
   "cell_type": "code",
   "execution_count": 4,
   "metadata": {},
   "outputs": [
    {
     "data": {
      "text/plain": [
       "COPPE/UFRJ      20\n",
       "USP             19\n",
       "UFMG            18\n",
       "UFBA            15\n",
       "UFSCar          12\n",
       "IFBA             8\n",
       "UFLA             7\n",
       "UNIFOR           7\n",
       "UNIFACS          6\n",
       "UFF              6\n",
       "UFU              5\n",
       "UCB              4\n",
       "PUC Minas        4\n",
       "CEFET Campos     4\n",
       "UFCG             4\n",
       "UFPA             4\n",
       "UFRGS            4\n",
       "UECE             3\n",
       "UFG              2\n",
       "UTFPR            2\n",
       "Name: institutions, dtype: int64"
      ]
     },
     "execution_count": 4,
     "metadata": {},
     "output_type": "execute_result"
    }
   ],
   "source": [
    "df['institutions'].apply(unidecode).str.split('; ').explode().value_counts().head(20)"
   ]
  },
  {
   "cell_type": "markdown",
   "metadata": {},
   "source": [
    "# Title bigrams"
   ]
  },
  {
   "cell_type": "code",
   "execution_count": 5,
   "metadata": {},
   "outputs": [
    {
     "data": {
      "text/plain": [
       "(MANUTENCAO, SOFTWARE)      14\n",
       "(SOFTWARE, EVOLUTION)        5\n",
       "(ORIENTADOS, OBJETOS)        4\n",
       "(CODIGO, FONTE)              4\n",
       "(SISTEMAS, LEGADOS)          4\n",
       "(CASOS, USO)                 4\n",
       "(PROJETOS, MANUTENCAO)       3\n",
       "(ENGENHARIA, REVERSA)        3\n",
       "(EVOLUCAO, SOFTWARE)         3\n",
       "(SOFTWARE, ATRAVES)          3\n",
       "(PADROES, ARQUITETURAIS)     3\n",
       "(PRODUTOS, SOFTWARE)         3\n",
       "(VISUALIZACAO, SOFTWARE)     3\n",
       "(ENSINO, MANUTENCAO)         3\n",
       "(COMPREENSAO, PROGRAMAS)     3\n",
       "(SISTEMAS, ORIENTADOS)       2\n",
       "(SUPPORTING, SOFTWARE)       2\n",
       "(METRICAS, ESTATICAS)        2\n",
       "(BAD, SMELLS)                2\n",
       "(ESTUDO, CASO)               2\n",
       "Name: title, dtype: int64"
      ]
     },
     "execution_count": 5,
     "metadata": {},
     "output_type": "execute_result"
    }
   ],
   "source": [
    "from nltk.util import ngrams\n",
    "from nltk.corpus import stopwords\n",
    "from nltk.tokenize import RegexpTokenizer\n",
    "\n",
    "# @TODO: unificar o idioma\n",
    "# @TODO: unificar plural e singular (stemming)\n",
    "\n",
    "title = df['title'].str.upper()\\\n",
    "                   .apply(unidecode)\\\n",
    "                   .apply(RegexpTokenizer(r'\\w+').tokenize)\\\n",
    "                   .apply(lambda x: [word for word in x if word.lower() not in (stopwords.words('english') + stopwords.words('portuguese'))])\n",
    "                   \n",
    "bigrams = title.apply(lambda x: list(ngrams(x, 2))).explode().value_counts()\n",
    "bigrams.head(20)\n"
   ]
  },
  {
   "cell_type": "code",
   "execution_count": 6,
   "metadata": {},
   "outputs": [
    {
     "data": {
      "text/plain": [
       "<AxesSubplot: >"
      ]
     },
     "execution_count": 6,
     "metadata": {},
     "output_type": "execute_result"
    },
    {
     "data": {
      "image/png": "[encoded data removed]",
      "text/plain": [
       "<Figure size 640x480 with 1 Axes>"
      ]
     },
     "metadata": {},
     "output_type": "display_data"
    }
   ],
   "source": [
    "#plots the number of papers published per edition\n",
    "#df.plot(kind='bar')\n",
    "df.boxplot()"
   ]
  },
  {
   "cell_type": "code",
   "execution_count": 7,
   "metadata": {},
   "outputs": [],
   "source": [
    "#df.to_excel('publications.xlsx', index=False)"
   ]
  }
 ],
 "metadata": {
  "kernelspec": {
   "display_name": "Python 3.8.5 ('vem2004-2022-wkUFAP_S')",
   "language": "python",
   "name": "python3"
  },
  "language_info": {
   "codemirror_mode": {
    "name": "ipython",
    "version": 3
   },
   "file_extension": ".py",
   "mimetype": "text/x-python",
   "name": "python",
   "nbconvert_exporter": "python",
   "pygments_lexer": "ipython3",
   "version": "3.8.5"
  },
  "orig_nbformat": 4,
  "vscode": {
   "interpreter": {
    "hash": "56de5df0fa0b970b31d977f89dd644d2c5148a725ccac841252e7e4cca7ae2f4"
   }
  }
 },
 "nbformat": 4,
 "nbformat_minor": 2
}
