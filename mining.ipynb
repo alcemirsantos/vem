{
 "cells": [
  {
   "cell_type": "markdown",
   "metadata": {},
   "source": [
    "# Setup"
   ]
  },
  {
   "cell_type": "code",
   "execution_count": 1,
   "metadata": {},
   "outputs": [
    {
     "name": "stderr",
     "output_type": "stream",
     "text": [
      "[nltk_data] Downloading package stopwords to\n",
      "[nltk_data]     /Users/leomurta/nltk_data...\n",
      "[nltk_data]   Package stopwords is already up-to-date!\n",
      "[nltk_data] Downloading package averaged_perceptron_tagger to\n",
      "[nltk_data]     /Users/leomurta/nltk_data...\n",
      "[nltk_data]   Package averaged_perceptron_tagger is already up-to-\n",
      "[nltk_data]       date!\n"
     ]
    },
    {
     "data": {
      "text/plain": [
       "True"
      ]
     },
     "execution_count": 1,
     "metadata": {},
     "output_type": "execute_result"
    }
   ],
   "source": [
    "import pandas as pd\n",
    "import matplotlib.pyplot as plt\n",
    "from wordcloud import WordCloud, STOPWORDS\n",
    "from unidecode import unidecode\n",
    "import nltk\n",
    "from nltk.util import bigrams\n",
    "from nltk.corpus import stopwords\n",
    "from nltk.tokenize import RegexpTokenizer\n",
    "from itertools import combinations\n",
    "\n",
    "nltk.download('stopwords')\n",
    "nltk.download('averaged_perceptron_tagger')\n"
   ]
  },
  {
   "cell_type": "markdown",
   "metadata": {},
   "source": [
    "# Dataset"
   ]
  },
  {
   "cell_type": "code",
   "execution_count": 2,
   "metadata": {},
   "outputs": [
    {
     "data": {
      "text/html": [
       "<div>\n",
       "<style scoped>\n",
       "    .dataframe tbody tr th:only-of-type {\n",
       "        vertical-align: middle;\n",
       "    }\n",
       "\n",
       "    .dataframe tbody tr th {\n",
       "        vertical-align: top;\n",
       "    }\n",
       "\n",
       "    .dataframe thead th {\n",
       "        text-align: right;\n",
       "    }\n",
       "</style>\n",
       "<table border=\"1\" class=\"dataframe\">\n",
       "  <thead>\n",
       "    <tr style=\"text-align: right;\">\n",
       "      <th></th>\n",
       "      <th>title</th>\n",
       "      <th>authors</th>\n",
       "      <th>institutions</th>\n",
       "      <th>venue</th>\n",
       "      <th>year</th>\n",
       "      <th>citations</th>\n",
       "    </tr>\n",
       "  </thead>\n",
       "  <tbody>\n",
       "    <tr>\n",
       "      <th>0</th>\n",
       "      <td>Towards Component-based Software Maintenance v...</td>\n",
       "      <td>Leonardo Murta; Hamilton Oliveira; Cristine Da...</td>\n",
       "      <td>UFRJ</td>\n",
       "      <td>wmswm</td>\n",
       "      <td>2004</td>\n",
       "      <td>13</td>\n",
       "    </tr>\n",
       "    <tr>\n",
       "      <th>1</th>\n",
       "      <td>Documentacao Essencial para Manutencao de Soft...</td>\n",
       "      <td>Sérgio Cozzetti Bertoldi de Souza; Wesley Chri...</td>\n",
       "      <td>UCB</td>\n",
       "      <td>wmswm</td>\n",
       "      <td>2004</td>\n",
       "      <td>8</td>\n",
       "    </tr>\n",
       "    <tr>\n",
       "      <th>2</th>\n",
       "      <td>Evolução Orientada a Aspectos de um Framework OO</td>\n",
       "      <td>Maria Tânia Francelino da Silva; Rosana T. Vac...</td>\n",
       "      <td>USP</td>\n",
       "      <td>wmswm</td>\n",
       "      <td>2004</td>\n",
       "      <td>4</td>\n",
       "    </tr>\n",
       "    <tr>\n",
       "      <th>3</th>\n",
       "      <td>An Evolution Process for Application Frameworks</td>\n",
       "      <td>Maria Istela Cagnin; José Carlos Maldonado; Pa...</td>\n",
       "      <td>USP; UFSCar</td>\n",
       "      <td>wmswm</td>\n",
       "      <td>2004</td>\n",
       "      <td>6</td>\n",
       "    </tr>\n",
       "    <tr>\n",
       "      <th>4</th>\n",
       "      <td>Uma experiencia no ensino de manutencao de sof...</td>\n",
       "      <td>Márcio Greyck Batista Dias</td>\n",
       "      <td>UNIGOIÁS</td>\n",
       "      <td>wmswm</td>\n",
       "      <td>2004</td>\n",
       "      <td>6</td>\n",
       "    </tr>\n",
       "  </tbody>\n",
       "</table>\n",
       "</div>"
      ],
      "text/plain": [
       "                                               title  \\\n",
       "0  Towards Component-based Software Maintenance v...   \n",
       "1  Documentacao Essencial para Manutencao de Soft...   \n",
       "2   Evolução Orientada a Aspectos de um Framework OO   \n",
       "3    An Evolution Process for Application Frameworks   \n",
       "4  Uma experiencia no ensino de manutencao de sof...   \n",
       "\n",
       "                                             authors institutions  venue  \\\n",
       "0  Leonardo Murta; Hamilton Oliveira; Cristine Da...         UFRJ  wmswm   \n",
       "1  Sérgio Cozzetti Bertoldi de Souza; Wesley Chri...          UCB  wmswm   \n",
       "2  Maria Tânia Francelino da Silva; Rosana T. Vac...          USP  wmswm   \n",
       "3  Maria Istela Cagnin; José Carlos Maldonado; Pa...  USP; UFSCar  wmswm   \n",
       "4                         Márcio Greyck Batista Dias     UNIGOIÁS  wmswm   \n",
       "\n",
       "   year  citations  \n",
       "0  2004         13  \n",
       "1  2004          8  \n",
       "2  2004          4  \n",
       "3  2004          6  \n",
       "4  2004          6  "
      ]
     },
     "execution_count": 2,
     "metadata": {},
     "output_type": "execute_result"
    }
   ],
   "source": [
    "#reads publications from Excel file\n",
    "df = pd.read_excel('publications.xlsx', keep_default_na=False)\n",
    "df.head()"
   ]
  },
  {
   "cell_type": "markdown",
   "metadata": {},
   "source": [
    "# Authors"
   ]
  },
  {
   "cell_type": "code",
   "execution_count": 3,
   "metadata": {},
   "outputs": [
    {
     "data": {
      "text/plain": [
       "0      [Leonardo Murta, Hamilton Oliveira, Cristine D...\n",
       "1      [Sergio Souza, Wesley Neves, Nicolas Anquetil,...\n",
       "2             [Maria Silva, Rosana Braga, Paulo Masiero]\n",
       "3      [Maria Cagnin, Jose Maldonado, Paulo Masiero, ...\n",
       "4                                          [Marcio Dias]\n",
       "                             ...                        \n",
       "226    [Altino Junior, Leticia Meireles, Lucas Figuei...\n",
       "227         [Matheus Melo, Gabriel Menezes, Bruno Cafeo]\n",
       "228    [Luan Ciribelli, Joao Lima, Heleno Junior, Gle...\n",
       "229    [Humberto Damasceno, Joao Nascimento, Carla Be...\n",
       "230                      [Nelson Rosa, David Cavalcanti]\n",
       "Name: authors, Length: 231, dtype: object"
      ]
     },
     "execution_count": 3,
     "metadata": {},
     "output_type": "execute_result"
    }
   ],
   "source": [
    "def first_last(text):\n",
    "    words = text.split(' ')\n",
    "    return f'{words[0]} {words[-1]}'\n",
    "\n",
    "authors = df['authors'].apply(unidecode) \\\n",
    "                       .str.split('; ') \\\n",
    "                       .apply(lambda x: [first_last(author) for author in x])\n",
    "authors"
   ]
  },
  {
   "cell_type": "markdown",
   "metadata": {},
   "source": [
    "# Top authors "
   ]
  },
  {
   "cell_type": "code",
   "execution_count": 4,
   "metadata": {},
   "outputs": [
    {
     "data": {
      "text/plain": [
       "Claudia Werner        18\n",
       "Marco Valente         17\n",
       "Manoel Mendonca       12\n",
       "Leonardo Murta        11\n",
       "Marcelo Schots        10\n",
       "Rosangela Penteado    10\n",
       "Andre Hora             9\n",
       "Marco                  8\n",
       "Marcelo Maia           8\n",
       "Claudio Sant'Anna      7\n",
       "Vinicius Durelli       7\n",
       "Glauco Carneiro        7\n",
       "Paulo Junior           6\n",
       "Valter Camargo         6\n",
       "Ricardo Terra          6\n",
       "Marco Gerosa           6\n",
       "Renato Novais          6\n",
       "Eduardo Figueiredo     6\n",
       "Bruno Cafeo            5\n",
       "Aline Vasconcelos      5\n",
       "Name: authors, dtype: int64"
      ]
     },
     "execution_count": 4,
     "metadata": {},
     "output_type": "execute_result"
    }
   ],
   "source": [
    "\n",
    "authors.explode().value_counts().head(20)"
   ]
  },
  {
   "cell_type": "markdown",
   "metadata": {},
   "source": [
    "# Authors colaborations"
   ]
  },
  {
   "cell_type": "code",
   "execution_count": 5,
   "metadata": {},
   "outputs": [
    {
     "data": {
      "text/plain": [
       "(Claudia Werner, Marcelo Schots)        9\n",
       "(Claudia Werner, Leonardo Murta)        5\n",
       "(Marco Valente, Ricardo Terra)          5\n",
       "(Heitor Costa, Paulo Junior)            4\n",
       "(Rafael Durelli, Vinicius Durelli)      4\n",
       "(Rosangela Penteado, Valter Camargo)    4\n",
       "(Claudio Sant'Anna, Marcos Dosea)       4\n",
       "(Denis Pinheiro, Roberto Bigonha)       3\n",
       "(Igor Steinmacher, Igor Wiese)          3\n",
       "(Claudia Werner, Rodrigo Santos)        3\n",
       "(Matheus Viana, Rosangela Penteado)     3\n",
       "(Dalton Guerrero, Jorge Figueiredo)     3\n",
       "(Marcelo Maia, Roberto Bigonha)         3\n",
       "(Denis Pinheiro, Marcelo Maia)          3\n",
       "(Aline Vasconcelos, Claudia Werner)     3\n",
       "(Eduardo Figueiredo, Marco Valente)     3\n",
       "(Glauco Carneiro, Manoel Mendonca)      3\n",
       "(Marcelo Schots, Marlon Silva)          3\n",
       "(Leonardo Murta, Marcelo Schots)        3\n",
       "(Claudia Werner, Marlon Silva)          3\n",
       "Name: authors, dtype: int64"
      ]
     },
     "execution_count": 5,
     "metadata": {},
     "output_type": "execute_result"
    }
   ],
   "source": [
    "authors.apply(lambda x: list(combinations(sorted(x), 2))).explode().value_counts().head(20)"
   ]
  },
  {
   "cell_type": "markdown",
   "metadata": {},
   "source": [
    "# Institutions"
   ]
  },
  {
   "cell_type": "code",
   "execution_count": 6,
   "metadata": {},
   "outputs": [
    {
     "data": {
      "text/plain": [
       "0                              [UFRJ]\n",
       "1                               [UCB]\n",
       "2                               [USP]\n",
       "3                       [USP, UFSCar]\n",
       "4                          [UNIGOIAS]\n",
       "                    ...              \n",
       "226                       [PUC Minas]\n",
       "227                            [UFMS]\n",
       "228    [UFJF, UFF, UC Irvine, UNIRIO]\n",
       "229                             [UFC]\n",
       "230                            [UFPE]\n",
       "Name: institutions, Length: 231, dtype: object"
      ]
     },
     "execution_count": 6,
     "metadata": {},
     "output_type": "execute_result"
    }
   ],
   "source": [
    "institutions = df['institutions'].apply(unidecode).str.split('; ')\n",
    "institutions"
   ]
  },
  {
   "cell_type": "markdown",
   "metadata": {},
   "source": [
    "# Top institutions"
   ]
  },
  {
   "cell_type": "code",
   "execution_count": 7,
   "metadata": {},
   "outputs": [
    {
     "data": {
      "text/plain": [
       "UFMG         37\n",
       "UFBA         26\n",
       "USP          25\n",
       "UFRJ         23\n",
       "UFLA         17\n",
       "UFSCar       15\n",
       "UFMS         14\n",
       "IFBA         11\n",
       "UNIFACS      10\n",
       "UFU          10\n",
       "UFF           9\n",
       "UFC           8\n",
       "UFSJ          8\n",
       "UFPA          8\n",
       "UNIFOR        8\n",
       "UFS           6\n",
       "UFRN          6\n",
       "UTFPR         6\n",
       "PUC Minas     6\n",
       "UFPE          5\n",
       "Name: institutions, dtype: int64"
      ]
     },
     "execution_count": 7,
     "metadata": {},
     "output_type": "execute_result"
    }
   ],
   "source": [
    "institutions.explode().value_counts().head(20)"
   ]
  },
  {
   "cell_type": "markdown",
   "metadata": {},
   "source": [
    "# Institutions collaborations"
   ]
  },
  {
   "cell_type": "code",
   "execution_count": 8,
   "metadata": {},
   "outputs": [
    {
     "data": {
      "text/plain": [
       "(IFBA, UFBA)            8\n",
       "(UFLA, UFMG)            6\n",
       "(UFBA, UFS)             6\n",
       "(UFBA, UNIFACS)         6\n",
       "(UFSCar, USP)           4\n",
       "(UFMG, UFMS)            4\n",
       "(UFLA, UFSJ)            4\n",
       "(UFMG, UFU)             4\n",
       "(CEFET-MG, UFMG)        4\n",
       "(IFBA, UNIFACS)         3\n",
       "(IFS, UFBA)             3\n",
       "(UFF, UFRJ)             3\n",
       "(USP, UTFPR)            3\n",
       "(CEFET Campos, UFRJ)    3\n",
       "(UFC, UNIFOR)           2\n",
       "(UFPA, UTFPR)           2\n",
       "(Fraunhofer, UFBA)      2\n",
       "(UFF, UNIRIO)           2\n",
       "(UERJ, UFRJ)            2\n",
       "(IPT-SP, NAU)           2\n",
       "Name: institutions, dtype: int64"
      ]
     },
     "execution_count": 8,
     "metadata": {},
     "output_type": "execute_result"
    }
   ],
   "source": [
    "institutions.apply(lambda x: list(combinations(sorted(x), 2))).explode().value_counts().head(20)"
   ]
  },
  {
   "cell_type": "markdown",
   "metadata": {},
   "source": [
    "# Titles"
   ]
  },
  {
   "cell_type": "code",
   "execution_count": 9,
   "metadata": {},
   "outputs": [
    {
     "data": {
      "text/plain": [
       "0      [TOWARDS, COMPONENT, BASED, SOFTWARE, MAINTENA...\n",
       "1      [DOCUMENTACAO, ESSENCIAL, MANUTENCAO, SOFTWARE...\n",
       "2         [EVOLUCAO, ORIENTADA, ASPECTOS, FRAMEWORK, OO]\n",
       "3          [EVOLUTION, PROCESS, APPLICATION, FRAMEWORKS]\n",
       "4            [EXPERIENCIA, ENSINO, MANUTENCAO, SOFTWARE]\n",
       "                             ...                        \n",
       "226    [ENTENDENDO, ENGAJAMENTO, COMUNIDADES, FRONT, ...\n",
       "227           [EXPLORING, PULL, REQUESTS, CODE, SAMPLES]\n",
       "228    [MERGE, NATURE, TOOL, SUPPORT, RESEARCH, MERGE...\n",
       "229    [PERCEPTIONS, DIFFICULTIES, SOFTWARE, ENGINEER...\n",
       "230    [USING, CONTROLLERS, ADAPT, MESSAGING, SYSTEMS...\n",
       "Name: title, Length: 231, dtype: object"
      ]
     },
     "execution_count": 9,
     "metadata": {},
     "output_type": "execute_result"
    }
   ],
   "source": [
    "# @TODO: unificar o idioma\n",
    "# @TODO: unificar plural e singular (stemming)\n",
    "titles = df['title'].str.upper()\\\n",
    "                   .apply(unidecode)\\\n",
    "                   .apply(RegexpTokenizer(r'\\w+').tokenize)\\\n",
    "                   .apply(lambda x: [word for word in x if word.lower() not in (stopwords.words('english') + stopwords.words('portuguese')) + ['sobre', 'atraves']])\n",
    "titles"
   ]
  },
  {
   "cell_type": "markdown",
   "metadata": {},
   "source": [
    "# Top bigrams from titles"
   ]
  },
  {
   "cell_type": "code",
   "execution_count": 10,
   "metadata": {},
   "outputs": [
    {
     "data": {
      "text/plain": [
       "(MANUTENCAO, SOFTWARE)      13\n",
       "(ESTUDO, PRELIMINAR)         7\n",
       "(CODE, SMELLS)               6\n",
       "(CODIGO, FONTE)              6\n",
       "(PROJETOS, SOFTWARE)         6\n",
       "(SOFTWARE, EVOLUTION)        5\n",
       "(EVOLUCAO, SOFTWARE)         5\n",
       "(ORIENTADOS, OBJETOS)        4\n",
       "(SISTEMAS, LEGADOS)          4\n",
       "(ESTUDO, EXPLORATORIO)       4\n",
       "(ESTUDO, CASO)               4\n",
       "(CASOS, USO)                 4\n",
       "(LARGA, ESCALA)              4\n",
       "(ESTUDO, EMPIRICO)           4\n",
       "(EMPIRICAL, STUDY)           3\n",
       "(ARCHITECTURE, RECOVERY)     3\n",
       "(DIVIDA, TECNICA)            3\n",
       "(ORIENTADO, OBJETOS)         3\n",
       "(ESTUDO, LARGA)              3\n",
       "(ENGENHARIA, REVERSA)        3\n",
       "Name: title, dtype: int64"
      ]
     },
     "execution_count": 10,
     "metadata": {},
     "output_type": "execute_result"
    }
   ],
   "source": [
    "                \n",
    "titles.apply(lambda x: set(bigrams(x))).explode().value_counts().head(20)\n"
   ]
  },
  {
   "cell_type": "markdown",
   "metadata": {},
   "source": [
    "# Top combinations from titles"
   ]
  },
  {
   "cell_type": "code",
   "execution_count": 11,
   "metadata": {},
   "outputs": [
    {
     "data": {
      "text/plain": [
       "(MANUTENCAO, SOFTWARE)         18\n",
       "(PROJETOS, SOFTWARE)            9\n",
       "(EVOLUCAO, SOFTWARE)            8\n",
       "(ESTUDO, PRELIMINAR)            7\n",
       "(SOFTWARE, VISUALIZATION)       6\n",
       "(APIS, ESTUDO)                  6\n",
       "(CODE, SMELLS)                  6\n",
       "(ANALISE, SOFTWARE)             6\n",
       "(CODIGO, FONTE)                 6\n",
       "(MODELOS, SOFTWARE)             6\n",
       "(EVOLUTION, SOFTWARE)           5\n",
       "(SOFTWARE, VISUALIZACAO)        5\n",
       "(DESENVOLVIMENTO, SOFTWARE)     5\n",
       "(ESTUDO, SOFTWARE)              5\n",
       "(ESCALA, LARGA)                 4\n",
       "(SOFTWARE, SOFTWARE)            4\n",
       "(OBJETOS, ORIENTADOS)           4\n",
       "(MANUTENCAO, SISTEMAS)          4\n",
       "(METRICAS, SOFTWARE)            4\n",
       "(EMPIRICO, ESTUDO)              4\n",
       "Name: title, dtype: int64"
      ]
     },
     "execution_count": 11,
     "metadata": {},
     "output_type": "execute_result"
    }
   ],
   "source": [
    "titles.apply(lambda x: set(combinations(sorted(x), 2))).explode().value_counts().head(20)"
   ]
  }
 ],
 "metadata": {
  "kernelspec": {
   "display_name": "Python 3.10.6 ('vem-1qhEc1iR')",
   "language": "python",
   "name": "python3"
  },
  "language_info": {
   "codemirror_mode": {
    "name": "ipython",
    "version": 3
   },
   "file_extension": ".py",
   "mimetype": "text/x-python",
   "name": "python",
   "nbconvert_exporter": "python",
   "pygments_lexer": "ipython3",
   "version": "3.10.6"
  },
  "orig_nbformat": 4,
  "vscode": {
   "interpreter": {
    "hash": "55626dcc2351b5cb2ecbe51db99fd2a90d80da30c7ba3e151c2cea414e46572a"
   }
  }
 },
 "nbformat": 4,
 "nbformat_minor": 2
}
