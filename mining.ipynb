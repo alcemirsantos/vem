{
 "cells": [
  {
   "cell_type": "markdown",
   "metadata": {},
   "source": [
    "Ideias:\n",
    "- Minerar colaborações"
   ]
  },
  {
   "cell_type": "code",
   "execution_count": 1,
   "metadata": {},
   "outputs": [
    {
     "name": "stderr",
     "output_type": "stream",
     "text": [
      "[nltk_data] Downloading package stopwords to\n",
      "[nltk_data]     /Users/leomurta/nltk_data...\n",
      "[nltk_data]   Package stopwords is already up-to-date!\n",
      "[nltk_data] Downloading package averaged_perceptron_tagger to\n",
      "[nltk_data]     /Users/leomurta/nltk_data...\n",
      "[nltk_data]   Package averaged_perceptron_tagger is already up-to-\n",
      "[nltk_data]       date!\n"
     ]
    },
    {
     "data": {
      "text/plain": [
       "True"
      ]
     },
     "execution_count": 1,
     "metadata": {},
     "output_type": "execute_result"
    }
   ],
   "source": [
    "import pandas as pd\n",
    "import matplotlib.pyplot as plt\n",
    "from wordcloud import WordCloud, STOPWORDS\n",
    "from unidecode import unidecode\n",
    "import nltk\n",
    "nltk.download('stopwords')\n",
    "nltk.download('averaged_perceptron_tagger')\n"
   ]
  },
  {
   "cell_type": "code",
   "execution_count": 2,
   "metadata": {},
   "outputs": [
    {
     "data": {
      "text/html": [
       "<div>\n",
       "<style scoped>\n",
       "    .dataframe tbody tr th:only-of-type {\n",
       "        vertical-align: middle;\n",
       "    }\n",
       "\n",
       "    .dataframe tbody tr th {\n",
       "        vertical-align: top;\n",
       "    }\n",
       "\n",
       "    .dataframe thead th {\n",
       "        text-align: right;\n",
       "    }\n",
       "</style>\n",
       "<table border=\"1\" class=\"dataframe\">\n",
       "  <thead>\n",
       "    <tr style=\"text-align: right;\">\n",
       "      <th></th>\n",
       "      <th>title</th>\n",
       "      <th>authors</th>\n",
       "      <th>institutions</th>\n",
       "      <th>venue</th>\n",
       "      <th>year</th>\n",
       "    </tr>\n",
       "  </thead>\n",
       "  <tbody>\n",
       "    <tr>\n",
       "      <th>0</th>\n",
       "      <td>Towards Component-based Software Maintenance v...</td>\n",
       "      <td>Leonardo Murta; Hamilton Oliveira; Cristine Da...</td>\n",
       "      <td>COPPE/UFRJ</td>\n",
       "      <td>wmswm</td>\n",
       "      <td>2004</td>\n",
       "    </tr>\n",
       "    <tr>\n",
       "      <th>1</th>\n",
       "      <td>Documentacao Essencial para Manutencao de Soft...</td>\n",
       "      <td>Sérgio Cozzetti Bertoldi de Souza; Wesley Chri...</td>\n",
       "      <td>UCB</td>\n",
       "      <td>wmswm</td>\n",
       "      <td>2004</td>\n",
       "    </tr>\n",
       "    <tr>\n",
       "      <th>2</th>\n",
       "      <td>Evolução Orientada a Aspectos de um Framework OO</td>\n",
       "      <td>Maria Tânia Francelino da Silva; Rosana T. Vac...</td>\n",
       "      <td>USP</td>\n",
       "      <td>wmswm</td>\n",
       "      <td>2004</td>\n",
       "    </tr>\n",
       "    <tr>\n",
       "      <th>3</th>\n",
       "      <td>An Evolution Process for Application Frameworks</td>\n",
       "      <td>Maria Istela Cagnin; José Carlos Maldonado; Pa...</td>\n",
       "      <td>USP; UFSCar</td>\n",
       "      <td>wmswm</td>\n",
       "      <td>2004</td>\n",
       "    </tr>\n",
       "    <tr>\n",
       "      <th>4</th>\n",
       "      <td>Uma experiencia no ensino de manutencao de sof...</td>\n",
       "      <td>Márcio Greyck Batista Dias</td>\n",
       "      <td>UNIGOIÁS ANHANGUERA</td>\n",
       "      <td>wmswm</td>\n",
       "      <td>2004</td>\n",
       "    </tr>\n",
       "  </tbody>\n",
       "</table>\n",
       "</div>"
      ],
      "text/plain": [
       "                                               title  \\\n",
       "0  Towards Component-based Software Maintenance v...   \n",
       "1  Documentacao Essencial para Manutencao de Soft...   \n",
       "2   Evolução Orientada a Aspectos de um Framework OO   \n",
       "3    An Evolution Process for Application Frameworks   \n",
       "4  Uma experiencia no ensino de manutencao de sof...   \n",
       "\n",
       "                                             authors         institutions  \\\n",
       "0  Leonardo Murta; Hamilton Oliveira; Cristine Da...           COPPE/UFRJ   \n",
       "1  Sérgio Cozzetti Bertoldi de Souza; Wesley Chri...                  UCB   \n",
       "2  Maria Tânia Francelino da Silva; Rosana T. Vac...                  USP   \n",
       "3  Maria Istela Cagnin; José Carlos Maldonado; Pa...          USP; UFSCar   \n",
       "4                         Márcio Greyck Batista Dias  UNIGOIÁS ANHANGUERA   \n",
       "\n",
       "   venue  year  \n",
       "0  wmswm  2004  \n",
       "1  wmswm  2004  \n",
       "2  wmswm  2004  \n",
       "3  wmswm  2004  \n",
       "4  wmswm  2004  "
      ]
     },
     "execution_count": 2,
     "metadata": {},
     "output_type": "execute_result"
    }
   ],
   "source": [
    "#reads publications from Excel file\n",
    "df = pd.read_excel('publications.xlsx', keep_default_na=False)\n",
    "df.head()"
   ]
  },
  {
   "cell_type": "markdown",
   "metadata": {},
   "source": [
    "# Authors"
   ]
  },
  {
   "cell_type": "code",
   "execution_count": 3,
   "metadata": {},
   "outputs": [
    {
     "data": {
      "text/plain": [
       "Claudia Werner        18\n",
       "Marco Valente         16\n",
       "Leonardo Murta        10\n",
       "Rosangela Penteado    10\n",
       "Manoel Mendonca       10\n",
       "Marcelo Schots        10\n",
       "Marco                  8\n",
       "Andre Hora             8\n",
       "Marcelo Maia           7\n",
       "Glauco Carneiro        7\n",
       "Paulo Junior           6\n",
       "Renato Novais          6\n",
       "Claudio Sant'Anna      6\n",
       "Eduardo Figueiredo     5\n",
       "Marco Gerosa           5\n",
       "Aline Vasconcelos      5\n",
       "Ricardo Terra          5\n",
       "Valter Camargo         5\n",
       "Nicolas Anquetil       4\n",
       "Igor Wiese             4\n",
       "Name: authors, dtype: int64"
      ]
     },
     "execution_count": 3,
     "metadata": {},
     "output_type": "execute_result"
    }
   ],
   "source": [
    "def first_last(text):\n",
    "    words = text.split(' ')\n",
    "    return f'{words[0]} {words[-1]}'\n",
    "\n",
    "df['authors'].apply(unidecode).str.split('; ').explode().apply(first_last).value_counts().head(20)"
   ]
  },
  {
   "cell_type": "markdown",
   "metadata": {},
   "source": [
    "# Institutions"
   ]
  },
  {
   "cell_type": "code",
   "execution_count": 4,
   "metadata": {},
   "outputs": [
    {
     "data": {
      "text/plain": [
       "UFMG            34\n",
       "COPPE/UFRJ      23\n",
       "USP             23\n",
       "UFBA            22\n",
       "UFLA            13\n",
       "UFSCar          13\n",
       "IFBA            10\n",
       "UNIFACS          9\n",
       "UFMS             9\n",
       "UFU              9\n",
       "UFF              8\n",
       "UFPA             7\n",
       "UNIFOR           7\n",
       "UTFPR            6\n",
       "UFS              5\n",
       "UFCG             4\n",
       "PUC Minas        4\n",
       "UCB              4\n",
       "CEFET Campos     4\n",
       "UFRGS            4\n",
       "Name: institutions, dtype: int64"
      ]
     },
     "execution_count": 4,
     "metadata": {},
     "output_type": "execute_result"
    }
   ],
   "source": [
    "df['institutions'].apply(unidecode).str.split('; ').explode().value_counts().head(20)"
   ]
  },
  {
   "cell_type": "markdown",
   "metadata": {},
   "source": [
    "# Title bigrams"
   ]
  },
  {
   "cell_type": "code",
   "execution_count": 5,
   "metadata": {},
   "outputs": [
    {
     "data": {
      "text/plain": [
       "(MANUTENCAO, SOFTWARE)      14\n",
       "(CODIGO, FONTE)              5\n",
       "(SOFTWARE, EVOLUTION)        5\n",
       "(ESTUDO, PRELIMINAR)         5\n",
       "(ESTUDO, EMPIRICO)           4\n",
       "(LARGA, ESCALA)              4\n",
       "(ORIENTADOS, OBJETOS)        4\n",
       "(PROJETOS, SOFTWARE)         4\n",
       "(SISTEMAS, LEGADOS)          4\n",
       "(EVOLUCAO, SOFTWARE)         4\n",
       "(CASOS, USO)                 4\n",
       "(PADROES, ARQUITETURAIS)     3\n",
       "(ENGENHARIA, REVERSA)        3\n",
       "(VISUALIZACAO, SOFTWARE)     3\n",
       "(ENSINO, MANUTENCAO)         3\n",
       "(ESCALA, SOBRE)              3\n",
       "(ORIENTADO, OBJETOS)         3\n",
       "(COMPREENSAO, PROGRAMAS)     3\n",
       "(ESTUDO, LARGA)              3\n",
       "(PRODUTOS, SOFTWARE)         3\n",
       "Name: title, dtype: int64"
      ]
     },
     "execution_count": 5,
     "metadata": {},
     "output_type": "execute_result"
    }
   ],
   "source": [
    "from nltk.util import ngrams\n",
    "from nltk.corpus import stopwords\n",
    "from nltk.tokenize import RegexpTokenizer\n",
    "\n",
    "# @TODO: unificar o idioma\n",
    "# @TODO: unificar plural e singular (stemming)\n",
    "\n",
    "title = df['title'].str.upper()\\\n",
    "                   .apply(unidecode)\\\n",
    "                   .apply(RegexpTokenizer(r'\\w+').tokenize)\\\n",
    "                   .apply(lambda x: [word for word in x if word.lower() not in (stopwords.words('english') + stopwords.words('portuguese'))])\n",
    "                   \n",
    "bigrams = title.apply(lambda x: list(ngrams(x, 2))).explode().value_counts()\n",
    "bigrams.head(20)\n"
   ]
  },
  {
   "cell_type": "code",
   "execution_count": 6,
   "metadata": {},
   "outputs": [
    {
     "data": {
      "text/plain": [
       "<AxesSubplot: >"
      ]
     },
     "execution_count": 6,
     "metadata": {},
     "output_type": "execute_result"
    },
    {
     "data": {
      "image/png": "[encoded data removed]",
      "text/plain": [
       "<Figure size 640x480 with 1 Axes>"
      ]
     },
     "metadata": {},
     "output_type": "display_data"
    }
   ],
   "source": [
    "#plots the number of papers published per edition\n",
    "#df.plot(kind='bar')\n",
    "df.boxplot()"
   ]
  },
  {
   "cell_type": "code",
   "execution_count": 7,
   "metadata": {},
   "outputs": [],
   "source": [
    "#df.to_excel('publications.xlsx', index=False)"
   ]
  }
 ],
 "metadata": {
  "kernelspec": {
   "display_name": "Python 3.10.6 ('vem2004-2022-ipJFqA09')",
   "language": "python",
   "name": "python3"
  },
  "language_info": {
   "codemirror_mode": {
    "name": "ipython",
    "version": 3
   },
   "file_extension": ".py",
   "mimetype": "text/x-python",
   "name": "python",
   "nbconvert_exporter": "python",
   "pygments_lexer": "ipython3",
   "version": "3.10.6"
  },
  "orig_nbformat": 4,
  "vscode": {
   "interpreter": {
    "hash": "e0b4d188c6740b86f22827d7e3ed60f52146a1f8e6f7a564c5dab9fbeb32dd39"
   }
  }
 },
 "nbformat": 4,
 "nbformat_minor": 2
}
