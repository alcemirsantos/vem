{
 "cells": [
  {
   "cell_type": "code",
   "execution_count": 38,
   "metadata": {},
   "outputs": [],
   "source": [
    "import xml.sax\n",
    "import pandas as pd\n",
    "\n",
    "element = {}  # Stores the name and the attributes of the current element\n",
    "publication = {}  # Stores the publication under construction\n",
    "data = []\n",
    "\n",
    "class SOLHandler(xml.sax.ContentHandler):\n",
    "\n",
    "    def startElement(self, name, attrs):\n",
    "        global element\n",
    "        element = {\n",
    "            'name': name,\n",
    "            'attrs': attrs\n",
    "        }\n",
    "\n",
    "    def characters(self, content):\n",
    "        global element, publication\n",
    "\n",
    "        if element:\n",
    "            if element['name'] == 'dc:title' and (element['attrs'].getValue('xml:lang') == 'pt-BR'):\n",
    "                publication['title'] = content\n",
    "            elif element['name'] == 'dc:creator':\n",
    "                author = ' '.join(reversed(content.split(', ')))\n",
    "                publication['authors'] = f'{publication[\"authors\"]}; {author}' if 'authors' in publication else author\n",
    "            elif element['name'] == 'dc:date':\n",
    "                publication['year'] = int(content[0:4])\n",
    "\n",
    "    def endElement(self, name):\n",
    "        global element, publication, data\n",
    "\n",
    "        if name == 'oai_dc:dc':\n",
    "            data.append(publication)\n",
    "            publication = {}\n",
    "\n",
    "        element = None"
   ]
  },
  {
   "cell_type": "code",
   "execution_count": 39,
   "metadata": {},
   "outputs": [],
   "source": [
    "parser = xml.sax.make_parser()\n",
    "parser.setContentHandler(SOLHandler())\n",
    "parser.parse(open('sol.xml', 'r'))"
   ]
  },
  {
   "cell_type": "code",
   "execution_count": 41,
   "metadata": {},
   "outputs": [],
   "source": [
    "df = pd.DataFrame(data)\n",
    "df.to_excel('sol.xlsx', index=False)"
   ]
  }
 ],
 "metadata": {
  "kernelspec": {
   "display_name": "Python 3.10.6 ('vem2004-2022-ipJFqA09')",
   "language": "python",
   "name": "python3"
  },
  "language_info": {
   "codemirror_mode": {
    "name": "ipython",
    "version": 3
   },
   "file_extension": ".py",
   "mimetype": "text/x-python",
   "name": "python",
   "nbconvert_exporter": "python",
   "pygments_lexer": "ipython3",
   "version": "3.10.6"
  },
  "orig_nbformat": 4,
  "vscode": {
   "interpreter": {
    "hash": "e0b4d188c6740b86f22827d7e3ed60f52146a1f8e6f7a564c5dab9fbeb32dd39"
   }
  }
 },
 "nbformat": 4,
 "nbformat_minor": 2
}
